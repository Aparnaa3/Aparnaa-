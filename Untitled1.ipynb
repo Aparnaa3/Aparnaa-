{
  "nbformat": 4,
  "nbformat_minor": 0,
  "metadata": {
    "colab": {
      "name": "Untitled1.ipynb",
      "provenance": [],
      "authorship_tag": "ABX9TyM18IT21/CQlk7pLdkXIzSJ",
      "include_colab_link": true
    },
    "kernelspec": {
      "name": "python3",
      "display_name": "Python 3"
    },
    "language_info": {
      "name": "python"
    }
  },
  "cells": [
    {
      "cell_type": "markdown",
      "metadata": {
        "id": "view-in-github",
        "colab_type": "text"
      },
      "source": [
        "<a href=\"https://colab.research.google.com/github/Aparnaa3/Aparnaa-/blob/main/Untitled1.ipynb\" target=\"_parent\"><img src=\"https://colab.research.google.com/assets/colab-badge.svg\" alt=\"Open In Colab\"/></a>"
      ]
    },
    {
      "cell_type": "code",
      "metadata": {
        "colab": {
          "base_uri": "https://localhost:8080/"
        },
        "id": "sCeQiMs__pdS",
        "outputId": "747fe726-c5b1-4f03-a931-e59db31f157d"
      },
      "source": [
        "X=int(input(\"Enter num1=\"))\n",
        "Y=int(input(\"Enter num2=\"))\n",
        "print(\"Addition=\",X+Y)\n",
        "print(\"Subtraction=\",X-Y)\n",
        "print(\"Multiplication=\",X*Y)\n",
        "print(\"Division=\",X/Y)"
      ],
      "execution_count": 1,
      "outputs": [
        {
          "output_type": "stream",
          "text": [
            "Enter num1=6\n",
            "Enter num2=3\n",
            "Addition= 9\n",
            "Subtraction= 3\n",
            "Multiplication= 18\n",
            "Division= 2.0\n"
          ],
          "name": "stdout"
        }
      ]
    }
  ]
}