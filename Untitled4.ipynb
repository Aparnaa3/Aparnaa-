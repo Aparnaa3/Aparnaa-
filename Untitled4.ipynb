{
  "nbformat": 4,
  "nbformat_minor": 0,
  "metadata": {
    "colab": {
      "name": "Untitled4.ipynb",
      "provenance": [],
      "authorship_tag": "ABX9TyOfm2BkXjHtif9WiFpqKWh0",
      "include_colab_link": true
    },
    "kernelspec": {
      "name": "python3",
      "display_name": "Python 3"
    },
    "language_info": {
      "name": "python"
    }
  },
  "cells": [
    {
      "cell_type": "markdown",
      "metadata": {
        "id": "view-in-github",
        "colab_type": "text"
      },
      "source": [
        "<a href=\"https://colab.research.google.com/github/Aparnaa3/Aparnaa-/blob/main/Untitled4.ipynb\" target=\"_parent\"><img src=\"https://colab.research.google.com/assets/colab-badge.svg\" alt=\"Open In Colab\"/></a>"
      ]
    },
    {
      "cell_type": "code",
      "metadata": {
        "colab": {
          "base_uri": "https://localhost:8080/"
        },
        "id": "qpl8oYeLIq_L",
        "outputId": "5470b74b-cb23-4567-983b-f5e839e965f3"
      },
      "source": [
        "P = float(input(\"Enter the principal amount : \"))\n",
        "\n",
        "N = float(input(\"Enter the number of years : \"))\n",
        "\n",
        "R = float(input(\"Enter the rate of interest : \"))\n",
        "\n",
        "#calculate simple interest by using this formula\n",
        "SI = (P * N * R)/100\n",
        "\n",
        "#print\n",
        "print(\"Simple interest : {}\".format(SI))"
      ],
      "execution_count": null,
      "outputs": [
        {
          "output_type": "stream",
          "text": [
            "Enter the principal amount : 10000\n",
            "Enter the number of years : 5\n",
            "Enter the rate of interest : 5\n",
            "Simple interest : 2500.0\n"
          ],
          "name": "stdout"
        }
      ]
    },
    {
      "cell_type": "code",
      "metadata": {
        "colab": {
          "base_uri": "https://localhost:8080/"
        },
        "id": "DYjP5tAQmq-U",
        "outputId": "44742dc5-ab78-4758-c05a-d4477a281041"
      },
      "source": [
        "name = input('Enter Name : ')\n",
        "age = int(input('Enter age : '))\n",
        "address = input('Enter Address : ')\n",
        "salary = int(input('Enter salarey : '))\n",
        "mobile = int(input('Enter mobile number : '))\n",
        "\n",
        "print('Name : ', name)\n",
        "print('Age : ', age)\n",
        "print('Salary : ', salary)\n",
        "print('Mobile number : ', mobile)"
      ],
      "execution_count": 5,
      "outputs": [
        {
          "output_type": "stream",
          "text": [
            "Enter Name : Aparnaa\n",
            "Enter age : 25\n",
            "Enter Address : 3,shanti avenue,salem\n",
            "Enter salarey : 50000\n",
            "Enter mobile number : 7708930907\n",
            "Name :  Aparnaa\n",
            "Age :  25\n",
            "Salary :  50000\n",
            "Mobile number :  7708930907\n"
          ],
          "name": "stdout"
        }
      ]
    },
    {
      "cell_type": "code",
      "metadata": {
        "colab": {
          "base_uri": "https://localhost:8080/"
        },
        "id": "IjbmtGAam3aG",
        "outputId": "496ae3ed-8d77-4898-ff2d-e6ebfb0310fb"
      },
      "source": [
        "text = input('Entera sentence : ')\n",
        "print(text[::-1])\n"
      ],
      "execution_count": 6,
      "outputs": [
        {
          "output_type": "stream",
          "text": [
            "Entera sentence : All is well\n",
            "llew si llA\n"
          ],
          "name": "stdout"
        }
      ]
    }
  ]
}