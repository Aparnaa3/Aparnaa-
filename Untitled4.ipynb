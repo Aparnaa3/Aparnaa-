{
  "nbformat": 4,
  "nbformat_minor": 0,
  "metadata": {
    "colab": {
      "name": "Untitled4.ipynb",
      "provenance": [],
      "authorship_tag": "ABX9TyPKM0PjaCc6PvNTLW9V2t/q",
      "include_colab_link": true
    },
    "kernelspec": {
      "name": "python3",
      "display_name": "Python 3"
    },
    "language_info": {
      "name": "python"
    }
  },
  "cells": [
    {
      "cell_type": "markdown",
      "metadata": {
        "id": "view-in-github",
        "colab_type": "text"
      },
      "source": [
        "<a href=\"https://colab.research.google.com/github/Aparnaa3/Aparnaa-/blob/main/Untitled4.ipynb\" target=\"_parent\"><img src=\"https://colab.research.google.com/assets/colab-badge.svg\" alt=\"Open In Colab\"/></a>"
      ]
    },
    {
      "cell_type": "code",
      "metadata": {
        "colab": {
          "base_uri": "https://localhost:8080/"
        },
        "id": "qpl8oYeLIq_L",
        "outputId": "5470b74b-cb23-4567-983b-f5e839e965f3"
      },
      "source": [
        "P = float(input(\"Enter the principal amount : \"))\n",
        "\n",
        "N = float(input(\"Enter the number of years : \"))\n",
        "\n",
        "R = float(input(\"Enter the rate of interest : \"))\n",
        "\n",
        "#calculate simple interest by using this formula\n",
        "SI = (P * N * R)/100\n",
        "\n",
        "#print\n",
        "print(\"Simple interest : {}\".format(SI))"
      ],
      "execution_count": 1,
      "outputs": [
        {
          "output_type": "stream",
          "text": [
            "Enter the principal amount : 10000\n",
            "Enter the number of years : 5\n",
            "Enter the rate of interest : 5\n",
            "Simple interest : 2500.0\n"
          ],
          "name": "stdout"
        }
      ]
    }
  ]
}